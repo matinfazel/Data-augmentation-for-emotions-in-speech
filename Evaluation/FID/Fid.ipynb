{
  "cells": [
    {
      "cell_type": "code",
      "execution_count": 7,
      "id": "875542dd-2f31-4509-a2c3-cb49a81aa26b",
      "metadata": {
        "colab": {
          "base_uri": "https://localhost:8080/"
        },
        "id": "875542dd-2f31-4509-a2c3-cb49a81aa26b",
        "outputId": "edb4b69c-734d-485f-b71e-334930842c88"
      },
      "outputs": [
        {
          "data": {
            "text/plain": [
              "<torch._C.Generator at 0x7ed3d7077450>"
            ]
          },
          "execution_count": 7,
          "metadata": {},
          "output_type": "execute_result"
        }
      ],
      "source": [
        "import torch\n",
        "import torchvision.models as models\n",
        "import torch.nn as nn\n",
        "import matplotlib.pyplot as plt\n",
        "import numpy as np\n",
        "import random\n",
        "torch.manual_seed(0)"
      ]
    },
    {
      "cell_type": "code",
      "execution_count": 3,
      "id": "6c0f6fa5-4b20-4a5d-a3ae-45be932b3d56",
      "metadata": {
        "id": "6c0f6fa5-4b20-4a5d-a3ae-45be932b3d56"
      },
      "outputs": [],
      "source": [
        "from Data_Loader import *\n",
        "from Generator import *"
      ]
    },
    {
      "cell_type": "code",
      "execution_count": 4,
      "id": "31025a19-cdde-4483-baa9-94bb25363b52",
      "metadata": {
        "id": "31025a19-cdde-4483-baa9-94bb25363b52"
      },
      "outputs": [],
      "source": [
        "device = 'cuda'\n",
        "n_channels = 3\n",
        "image_shape = (640,480)\n",
        "batch_size = 4"
      ]
    },
    {
      "cell_type": "code",
      "execution_count": 25,
      "id": "b1LjRm8yaA1F",
      "metadata": {
        "id": "b1LjRm8yaA1F"
      },
      "outputs": [],
      "source": [
        "#%cd Gan_Results\n",
        "!cp -r /content/Gan_Results/Gan_Results/Models /content/Gan_Results"
      ]
    },
    {
      "cell_type": "code",
      "execution_count": 26,
      "id": "UF-yHNqzbQyu",
      "metadata": {
        "id": "UF-yHNqzbQyu"
      },
      "outputs": [],
      "source": [
        "!rm -rf /content/Gan_Results/Gan_Results/Models"
      ]
    },
    {
      "cell_type": "markdown",
      "id": "dfe91aed",
      "metadata": {
        "id": "dfe91aed"
      },
      "source": [
        "## Loading pre-trained model"
      ]
    },
    {
      "cell_type": "code",
      "execution_count": 8,
      "id": "71dace8d-15c0-4971-bc30-774797ae8d42",
      "metadata": {
        "colab": {
          "base_uri": "https://localhost:8080/"
        },
        "id": "71dace8d-15c0-4971-bc30-774797ae8d42",
        "outputId": "18210e99-470f-4a06-c20f-6bd19286fbd4"
      },
      "outputs": [
        {
          "name": "stderr",
          "output_type": "stream",
          "text": [
            "/usr/local/lib/python3.10/dist-packages/torchvision/models/_utils.py:223: UserWarning: Arguments other than a weight enum or `None` for 'weights' are deprecated since 0.13 and may be removed in the future. The current behavior is equivalent to passing `weights=None`.\n",
            "  warnings.warn(msg)\n"
          ]
        }
      ],
      "source": [
        "classifier = models.resnet50(weights=False)\n",
        "num_features = classifier.fc.in_features\n",
        "classifier.fc = nn.Linear(num_features, 6)\n",
        "classifier = classifier.to(device)\n",
        "pretrained_weights_path = 'data/SER_Teess_Savee_Ravdess_classifier.pth'\n",
        "classifier.load_state_dict(torch.load(pretrained_weights_path))\n",
        "classifier.fc = torch.nn.Identity()"
      ]
    },
    {
      "cell_type": "code",
      "execution_count": 9,
      "id": "518394e2-e1cb-48c2-b5b9-bb203322a1af",
      "metadata": {
        "id": "518394e2-e1cb-48c2-b5b9-bb203322a1af"
      },
      "outputs": [],
      "source": [
        "import scipy\n",
        "def matrix_sqrt(x):\n",
        "    y = x.cpu().detach().numpy()\n",
        "    y = scipy.linalg.sqrtm(y)\n",
        "    return torch.Tensor(y.real, device=x.device)"
      ]
    },
    {
      "cell_type": "code",
      "execution_count": 10,
      "id": "a41337b3-ac2f-42c7-a83d-36ad94bc90a4",
      "metadata": {
        "id": "a41337b3-ac2f-42c7-a83d-36ad94bc90a4"
      },
      "outputs": [],
      "source": [
        "def frechet_distance(mu_x, mu_y, sigma_x, sigma_y):\n",
        "    return torch.norm(mu_x-mu_y)*torch.norm(mu_x-mu_y)+ torch.trace(sigma_x + sigma_y - 2 * matrix_sqrt(sigma_x @ sigma_y))"
      ]
    },
    {
      "cell_type": "code",
      "execution_count": 11,
      "id": "802c1285-f712-4159-8125-9fd1ef40430e",
      "metadata": {
        "id": "802c1285-f712-4159-8125-9fd1ef40430e"
      },
      "outputs": [],
      "source": [
        "def preprocess(img):\n",
        "    img = torch.nn.functional.interpolate(img, size=(224, 224), mode='bilinear')\n",
        "    return img"
      ]
    },
    {
      "cell_type": "code",
      "execution_count": 12,
      "id": "3601fe16-6045-4bab-91c8-badd5883b768",
      "metadata": {
        "id": "3601fe16-6045-4bab-91c8-badd5883b768"
      },
      "outputs": [],
      "source": [
        "def get_covariance(features):\n",
        "    return torch.Tensor(np.cov(features.detach().cpu().numpy(), rowvar=False))"
      ]
    },
    {
      "cell_type": "code",
      "execution_count": 13,
      "id": "a69b9853-a1fe-4d63-87d6-78b39641f242",
      "metadata": {
        "id": "a69b9853-a1fe-4d63-87d6-78b39641f242"
      },
      "outputs": [],
      "source": [
        "def get_noise(n_samples, n_channels,image_shape, device='cuda'):\n",
        "    return torch.randn(n_samples,n_channels, image_shape[0],image_shape[1], device=device)"
      ]
    },
    {
      "cell_type": "code",
      "execution_count": 14,
      "id": "28162a8f-1507-414e-859e-5406521ef8d5",
      "metadata": {
        "id": "28162a8f-1507-414e-859e-5406521ef8d5"
      },
      "outputs": [],
      "source": [
        "import os\n",
        "import shutil\n",
        "def remove_all_directories(directory):\n",
        "    for item in os.listdir(directory):\n",
        "        item_path = os.path.join(directory, item)\n",
        "\n",
        "        if os.path.isdir(item_path):\n",
        "            shutil.rmtree(item_path)"
      ]
    },
    {
      "cell_type": "code",
      "execution_count": 15,
      "id": "28eb8a9d-2346-4a49-a677-ea399afe2e35",
      "metadata": {
        "id": "28eb8a9d-2346-4a49-a677-ea399afe2e35"
      },
      "outputs": [],
      "source": [
        "def get_stat(fake_features_list,real_features_list):\n",
        "    fake_features_all = torch.cat(fake_features_list)\n",
        "    real_features_all = torch.cat(real_features_list)\n",
        "    mu_fake = torch.mean(fake_features_all,0)\n",
        "    mu_real = torch.mean(real_features_all,0)\n",
        "\n",
        "    sigma_fake = get_covariance(fake_features_all)\n",
        "    sigma_real = get_covariance(real_features_all)\n",
        "    return mu_fake, mu_real, sigma_fake, sigma_real"
      ]
    },
    {
      "cell_type": "code",
      "execution_count": 32,
      "id": "379a2056-e9b8-44d3-aed8-6095396c0f54",
      "metadata": {
        "id": "379a2056-e9b8-44d3-aed8-6095396c0f54"
      },
      "outputs": [],
      "source": [
        "def load_model(emotion,path='Gan_Results/Models'):\n",
        "    path_tmp = f'{path}/{emotion}'\n",
        "    remove_all_directories(path_tmp)\n",
        "\n",
        "    model_path = os.listdir(path_tmp)[0]\n",
        "    model_path = f'{path_tmp}/{model_path}'\n",
        "\n",
        "    gen = Generator(n_channels, n_channels).to(device)\n",
        "    gen.load_state_dict(torch.load(model_path, map_location=torch.device(device))[\"gen_AB\"])\n",
        "    return gen\n"
      ]
    },
    {
      "cell_type": "markdown",
      "id": "72ce70c8",
      "metadata": {
        "id": "72ce70c8"
      },
      "source": [
        "## Calculating the Fid-score on synthetic Spectograms"
      ]
    },
    {
      "cell_type": "code",
      "execution_count": 33,
      "id": "8b7e487f-bbf0-4d84-974a-17e7256e1c72",
      "metadata": {
        "id": "8b7e487f-bbf0-4d84-974a-17e7256e1c72"
      },
      "outputs": [],
      "source": [
        "def find_fid(emotion):\n",
        "    target_dataset = FilteredDataset(dataset,emotion)\n",
        "    target_loader = DataLoader(target_dataset, batch_size=batch_size, shuffle=True)\n",
        "    fake_features_list = []\n",
        "    real_features_list = []\n",
        "    gen = load_model(emotion,path='Gan_Results/Models')\n",
        "    with torch.no_grad():\n",
        "        for real_image, _ in target_loader:\n",
        "            real_image = real_image.to(device)\n",
        "            Resnet_real = preprocess(real_image)\n",
        "            real_features = classifier(Resnet_real)\n",
        "            real_features_list.append(real_features)\n",
        "\n",
        "            #fake_image = gen(get_noise(len(real_image), n_channels,image_shape, device='cuda'))\n",
        "            fake_image = gen(real_image)\n",
        "            fake_image = preprocess(fake_image)\n",
        "            fake_features = classifier(fake_image)\n",
        "            fake_features_list.append(fake_features)\n",
        "    mu_fake, mu_real, sigma_fake, sigma_real = get_stat(fake_features_list,real_features_list)\n",
        "    cur_fid = frechet_distance(mu_real, mu_fake, sigma_real, sigma_fake).item()\n",
        "    print(f'FID Score for {emotion} is: {cur_fid}')\n",
        "    return cur_fid"
      ]
    },
    {
      "cell_type": "code",
      "execution_count": 34,
      "id": "3703ae98-e6a1-497d-958e-d02458cd83d0",
      "metadata": {
        "id": "3703ae98-e6a1-497d-958e-d02458cd83d0"
      },
      "outputs": [],
      "source": [
        "Emotions = dataset.classes"
      ]
    },
    {
      "cell_type": "code",
      "execution_count": 35,
      "id": "45195db4-46c8-49f6-8fb4-1901ee601321",
      "metadata": {
        "colab": {
          "base_uri": "https://localhost:8080/"
        },
        "id": "45195db4-46c8-49f6-8fb4-1901ee601321",
        "outputId": "ce61eaca-9582-4ce9-d8a3-5b930e3eec60"
      },
      "outputs": [
        {
          "name": "stdout",
          "output_type": "stream",
          "text": [
            "FID Score for Angry is: 13.235254287719727\n",
            "FID Score for Happy is: 11.528666496276855\n",
            "FID Score for Neutral is: 44.20809555053711\n",
            "FID Score for Sad is: 11.770061492919922\n",
            "FID Score for Surprise is: 12.9575834274292\n"
          ]
        }
      ],
      "source": [
        "fid_scores = {}\n",
        "for emotion in Emotions:\n",
        "    fid_scores[emotion] = find_fid(emotion)"
      ]
    },
    {
      "cell_type": "markdown",
      "id": "ec59dd1a",
      "metadata": {
        "id": "ec59dd1a"
      },
      "source": [
        "## Comparing the Fid-score over all emotions"
      ]
    },
    {
      "cell_type": "code",
      "execution_count": 36,
      "id": "50616c85-7bb4-4b84-b960-0281a0fb7d80",
      "metadata": {
        "colab": {
          "base_uri": "https://localhost:8080/",
          "height": 487
        },
        "id": "50616c85-7bb4-4b84-b960-0281a0fb7d80",
        "outputId": "d218df2d-f8df-404a-cf83-3f60aded106c"
      },
      "outputs": [
        {
          "data": {
            "image/png": "[encoded data removed]",
            "text/plain": [
              "<Figure size 640x480 with 1 Axes>"
            ]
          },
          "metadata": {},
          "output_type": "display_data"
        }
      ],
      "source": [
        "import matplotlib.pyplot as plt\n",
        "\n",
        "categories = list(fid_scores.keys())\n",
        "values = list(fid_scores.values())\n",
        "\n",
        "plt.bar(categories, values)\n",
        "\n",
        "plt.xlabel('Categories')\n",
        "plt.ylabel('Values')\n",
        "plt.title('FID score for each emotion')\n",
        "\n",
        "plt.xticks(rotation=45)\n",
        "plt.tight_layout()\n",
        "plt.show()"
      ]
    },
    {
      "cell_type": "markdown",
      "id": "ce9c66de",
      "metadata": {
        "id": "ce9c66de"
      },
      "source": [
        "## Calculating the Fid-score on real Spectograms"
      ]
    },
    {
      "cell_type": "code",
      "execution_count": 37,
      "id": "cc988f5b-4915-4e0a-a371-08c890ab2e93",
      "metadata": {
        "id": "cc988f5b-4915-4e0a-a371-08c890ab2e93"
      },
      "outputs": [],
      "source": [
        "def find_local_fid(emotion):\n",
        "    target_dataset = FilteredDataset(dataset,emotion)\n",
        "    target_loader = DataLoader(target_dataset, batch_size=1, shuffle=True)\n",
        "    fake_features_list = []\n",
        "    real_features_list = []\n",
        "    with torch.no_grad():\n",
        "        for real_image, _ in target_loader:\n",
        "            real_image = real_image.to(device)\n",
        "            Resnet_real = preprocess(real_image)\n",
        "            real_features = classifier(Resnet_real)\n",
        "            real_features_list.append(real_features)\n",
        "\n",
        "            fake_image = target_dataset[5][0]\n",
        "            fake_image = fake_image.to(device)\n",
        "            fake_image = preprocess(fake_image.unsqueeze(0))\n",
        "            fake_features = classifier(fake_image)\n",
        "            fake_features_list.append(fake_features)\n",
        "    mu_fake, mu_real, sigma_fake, sigma_real = get_stat(fake_features_list,real_features_list)\n",
        "    cur_fid = frechet_distance(mu_real, mu_fake, sigma_real, sigma_fake).item()\n",
        "    print(f'FID Score for {emotion} is: {cur_fid}')\n",
        "    return cur_fid"
      ]
    },
    {
      "cell_type": "markdown",
      "id": "a895d5f6",
      "metadata": {
        "id": "a895d5f6"
      },
      "source": [
        "## Comparing the Fid-score over all emotions"
      ]
    },
    {
      "cell_type": "code",
      "execution_count": null,
      "id": "c3d4cfbe-c1d3-4edf-aadc-fe6123e159b1",
      "metadata": {
        "colab": {
          "base_uri": "https://localhost:8080/"
        },
        "id": "c3d4cfbe-c1d3-4edf-aadc-fe6123e159b1",
        "outputId": "989b380b-cdbb-4fe3-edb3-042b1f89b360"
      },
      "outputs": [
        {
          "name": "stdout",
          "output_type": "stream",
          "text": [
            "FID Score for Angry is: 2.9550743103027344\n",
            "FID Score for Happy is: 2.8438141345977783\n",
            "FID Score for Neutral is: 2.9603734016418457\n",
            "FID Score for Sad is: 2.916569471359253\n",
            "FID Score for Surprise is: 2.709850788116455\n"
          ]
        }
      ],
      "source": [
        "fid_scores = {}\n",
        "for emotion in Emotions:\n",
        "    fid_scores[emotion] = find_local_fid(emotion)"
      ]
    },
    {
      "cell_type": "code",
      "execution_count": null,
      "id": "DsIGWUYlnHif",
      "metadata": {
        "colab": {
          "base_uri": "https://localhost:8080/",
          "height": 487
        },
        "id": "DsIGWUYlnHif",
        "outputId": "4d2224bc-4eee-4229-b6e2-3a80a54fd6f8"
      },
      "outputs": [
        {
          "data": {
            "image/png": "[encoded data removed]",
            "text/plain": [
              "<Figure size 640x480 with 1 Axes>"
            ]
          },
          "metadata": {},
          "output_type": "display_data"
        }
      ],
      "source": [
        "import matplotlib.pyplot as plt\n",
        "\n",
        "categories = list(fid_scores.keys())\n",
        "values = list(fid_scores.values())\n",
        "\n",
        "plt.bar(categories, values)\n",
        "\n",
        "plt.xlabel('Categories')\n",
        "plt.ylabel('Values')\n",
        "plt.title('FID score for each emotion')\n",
        "\n",
        "plt.xticks(rotation=45)\n",
        "plt.tight_layout()\n",
        "plt.show()"
      ]
    }
  ],
  "metadata": {
    "accelerator": "GPU",
    "colab": {
      "gpuType": "T4",
      "provenance": []
    },
    "kernelspec": {
      "display_name": "Python 3 (ipykernel)",
      "language": "python",
      "name": "python3"
    },
    "language_info": {
      "codemirror_mode": {
        "name": "ipython",
        "version": 3
      },
      "file_extension": ".py",
      "mimetype": "text/x-python",
      "name": "python",
      "nbconvert_exporter": "python",
      "pygments_lexer": "ipython3",
      "version": "3.9.13"
    }
  },
  "nbformat": 4,
  "nbformat_minor": 5
}
