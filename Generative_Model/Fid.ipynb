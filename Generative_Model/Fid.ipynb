{
 "cells": [
  {
   "cell_type": "code",
   "execution_count": 34,
   "id": "875542dd-2f31-4509-a2c3-cb49a81aa26b",
   "metadata": {},
   "outputs": [
    {
     "data": {
      "text/plain": [
       "<torch._C.Generator at 0x7f47fc031070>"
      ]
     },
     "execution_count": 34,
     "metadata": {},
     "output_type": "execute_result"
    }
   ],
   "source": [
    "import torch\n",
    "import torchvision.models as models\n",
    "import torch.nn as nn\n",
    "import matplotlib.pyplot as plt\n",
    "import numpy as np\n",
    "torch.manual_seed(0)"
   ]
  },
  {
   "cell_type": "code",
   "execution_count": 35,
   "id": "6c0f6fa5-4b20-4a5d-a3ae-45be932b3d56",
   "metadata": {},
   "outputs": [],
   "source": [
    "from Data_Loader import *\n",
    "from Generator import *"
   ]
  },
  {
   "cell_type": "code",
   "execution_count": 36,
   "id": "31025a19-cdde-4483-baa9-94bb25363b52",
   "metadata": {},
   "outputs": [],
   "source": [
    "device = 'cuda'\n",
    "n_channels = 3\n",
    "image_shape = (640,480)\n",
    "batch_size = 4"
   ]
  },
  {
   "cell_type": "code",
   "execution_count": 37,
   "id": "71dace8d-15c0-4971-bc30-774797ae8d42",
   "metadata": {},
   "outputs": [
    {
     "name": "stderr",
     "output_type": "stream",
     "text": [
      "/usr/local/lib/python3.10/dist-packages/torchvision/models/_utils.py:223: UserWarning: Arguments other than a weight enum or `None` for 'weights' are deprecated since 0.13 and may be removed in the future. The current behavior is equivalent to passing `weights=None`.\n",
      "  warnings.warn(msg)\n"
     ]
    }
   ],
   "source": [
    "classifier = models.resnet50(weights=False)  \n",
    "num_features = classifier.fc.in_features    \n",
    "classifier.fc = nn.Linear(num_features, 6)\n",
    "classifier = classifier.to(device)\n",
    "pretrained_weights_path = 'data/SER_Teess_Savee_Ravdess_classifier.pth' \n",
    "classifier.load_state_dict(torch.load(pretrained_weights_path))\n",
    "classifier.fc = torch.nn.Identity()"
   ]
  },
  {
   "cell_type": "code",
   "execution_count": 38,
   "id": "518394e2-e1cb-48c2-b5b9-bb203322a1af",
   "metadata": {},
   "outputs": [],
   "source": [
    "import scipy\n",
    "def matrix_sqrt(x):\n",
    "    y = x.cpu().detach().numpy()\n",
    "    y = scipy.linalg.sqrtm(y)\n",
    "    return torch.Tensor(y.real, device=x.device)"
   ]
  },
  {
   "cell_type": "code",
   "execution_count": 39,
   "id": "a41337b3-ac2f-42c7-a83d-36ad94bc90a4",
   "metadata": {},
   "outputs": [],
   "source": [
    "def frechet_distance(mu_x, mu_y, sigma_x, sigma_y):\n",
    "    return torch.norm(mu_x-mu_y)*torch.norm(mu_x-mu_y)+ torch.trace(sigma_x + sigma_y - 2 * matrix_sqrt(sigma_x @ sigma_y))"
   ]
  },
  {
   "cell_type": "code",
   "execution_count": 40,
   "id": "802c1285-f712-4159-8125-9fd1ef40430e",
   "metadata": {},
   "outputs": [],
   "source": [
    "def preprocess(img):\n",
    "    img = torch.nn.functional.interpolate(img, size=(224, 224), mode='bilinear')\n",
    "    return img"
   ]
  },
  {
   "cell_type": "code",
   "execution_count": 41,
   "id": "3601fe16-6045-4bab-91c8-badd5883b768",
   "metadata": {},
   "outputs": [],
   "source": [
    "def get_covariance(features):\n",
    "    return torch.Tensor(np.cov(features.detach().cpu().numpy(), rowvar=False))"
   ]
  },
  {
   "cell_type": "code",
   "execution_count": 42,
   "id": "a69b9853-a1fe-4d63-87d6-78b39641f242",
   "metadata": {},
   "outputs": [],
   "source": [
    "def get_noise(n_samples, n_channels,image_shape, device='cuda'):\n",
    "    return torch.randn(n_samples,n_channels, image_shape[0],image_shape[1], device=device)"
   ]
  },
  {
   "cell_type": "code",
   "execution_count": 49,
   "id": "28162a8f-1507-414e-859e-5406521ef8d5",
   "metadata": {},
   "outputs": [],
   "source": [
    "import os\n",
    "import shutil\n",
    "def remove_all_directories(directory):\n",
    "    for item in os.listdir(directory):\n",
    "        item_path = os.path.join(directory, item)\n",
    "\n",
    "        if os.path.isdir(item_path):\n",
    "            shutil.rmtree(item_path)"
   ]
  },
  {
   "cell_type": "code",
   "execution_count": 50,
   "id": "28eb8a9d-2346-4a49-a677-ea399afe2e35",
   "metadata": {},
   "outputs": [],
   "source": [
    "def get_stat(fake_features_list,real_features_list):\n",
    "    fake_features_all = torch.cat(fake_features_list)\n",
    "    real_features_all = torch.cat(real_features_list)\n",
    "    mu_fake = torch.mean(fake_features_all,0)\n",
    "    mu_real = torch.mean(real_features_all,0)\n",
    "\n",
    "    sigma_fake = get_covariance(fake_features_all)\n",
    "    sigma_real = get_covariance(real_features_all)\n",
    "    return mu_fake, mu_real, sigma_fake, sigma_real"
   ]
  },
  {
   "cell_type": "code",
   "execution_count": 51,
   "id": "379a2056-e9b8-44d3-aed8-6095396c0f54",
   "metadata": {},
   "outputs": [],
   "source": [
    "def load_model(emotion,path='Gan_Results/Models'):\n",
    "    path_tmp = f'Gan_Results/Models/{emotion}'\n",
    "    remove_all_directories(path_tmp)\n",
    "    \n",
    "    model_path = os.listdir(path_tmp)[0]\n",
    "    model_path = f'{path_tmp}/{model_path}'\n",
    "\n",
    "    gen = Generator(n_channels, n_channels).to(device)\n",
    "    gen.load_state_dict(torch.load(model_path, map_location=torch.device(device))[\"gen_AB\"])\n",
    "    return gen\n"
   ]
  },
  {
   "cell_type": "code",
   "execution_count": 52,
   "id": "8b7e487f-bbf0-4d84-974a-17e7256e1c72",
   "metadata": {},
   "outputs": [],
   "source": [
    "def find_fid(emotion):\n",
    "    target_dataset = FilteredDataset(dataset,emotion)\n",
    "    target_loader = DataLoader(target_dataset, batch_size=batch_size, shuffle=True)\n",
    "    fake_features_list = []\n",
    "    real_features_list = []\n",
    "    gen = load_model(emotion,path='Gan_Results/Models')\n",
    "    with torch.no_grad():\n",
    "        for real_image, _ in target_loader:\n",
    "            real_image = real_image.to(device)\n",
    "            Resnet_real = preprocess(real_image)\n",
    "            real_features = classifier(Resnet_real)\n",
    "            real_features_list.append(real_features)\n",
    "\n",
    "            fake_image = gen(get_noise(len(real_image), n_channels,image_shape, device='cuda'))\n",
    "            fake_image = preprocess(fake_image)\n",
    "            fake_features = classifier(fake_image)\n",
    "            fake_features_list.append(fake_features)\n",
    "    mu_fake, mu_real, sigma_fake, sigma_real = get_stat(fake_features_list,real_features_list)\n",
    "    cur_fid = frechet_distance(mu_real, mu_fake, sigma_real, sigma_fake).item()\n",
    "    print(f'FID Score for {emotion} is: {cur_fid}')\n",
    "    return cur_fid"
   ]
  },
  {
   "cell_type": "code",
   "execution_count": 53,
   "id": "3703ae98-e6a1-497d-958e-d02458cd83d0",
   "metadata": {},
   "outputs": [],
   "source": [
    "Emotions = dataset.classes"
   ]
  },
  {
   "cell_type": "code",
   "execution_count": 54,
   "id": "45195db4-46c8-49f6-8fb4-1901ee601321",
   "metadata": {},
   "outputs": [
    {
     "name": "stdout",
     "output_type": "stream",
     "text": [
      "FID Score for Angry is: 75.80461120605469\n",
      "FID Score for Happy is: 75.61045837402344\n",
      "FID Score for Neutral is: 75.43609619140625\n",
      "FID Score for Sad is: 75.57091522216797\n",
      "FID Score for Surprise is: 74.61958312988281\n"
     ]
    }
   ],
   "source": [
    "fid_scores = {}\n",
    "for emotion in Emotions:\n",
    "    fid_scores[emotion] = find_fid(emotion)"
   ]
  },
  {
   "cell_type": "code",
   "execution_count": 57,
   "id": "50616c85-7bb4-4b84-b960-0281a0fb7d80",
   "metadata": {},
   "outputs": [
    {
     "data": {
      "image/png": "[encoded data removed]",
      "text/plain": [
       "<Figure size 640x480 with 1 Axes>"
      ]
     },
     "metadata": {},
     "output_type": "display_data"
    }
   ],
   "source": [
    "import matplotlib.pyplot as plt\n",
    "\n",
    "categories = list(fid_scores.keys())\n",
    "values = list(fid_scores.values())\n",
    "\n",
    "plt.bar(categories, values)\n",
    "\n",
    "plt.xlabel('Categories')\n",
    "plt.ylabel('Values')\n",
    "plt.title('FID score for each emotion')\n",
    "\n",
    "plt.xticks(rotation=45)  \n",
    "plt.tight_layout()  \n",
    "plt.show()"
   ]
  },
  {
   "cell_type": "code",
   "execution_count": 74,
   "id": "cc988f5b-4915-4e0a-a371-08c890ab2e93",
   "metadata": {},
   "outputs": [],
   "source": [
    "def find_local_fid(emotion):\n",
    "    target_dataset = FilteredDataset(dataset,emotion)\n",
    "    target_loader = DataLoader(target_dataset, batch_size=1, shuffle=True)\n",
    "    fake_features_list = []\n",
    "    real_features_list = []\n",
    "    gen = load_model(emotion,path='Gan_Results/Models')\n",
    "    with torch.no_grad():\n",
    "        for real_image, _ in target_loader:\n",
    "            real_image = real_image.to(device)\n",
    "            Resnet_real = preprocess(real_image)\n",
    "            real_features = classifier(Resnet_real)\n",
    "            real_features_list.append(real_features)\n",
    "\n",
    "            fake_image = target_dataset[0][0]\n",
    "            fake_image = preprocess(fake_image)\n",
    "            fake_features = classifier(fake_image)\n",
    "            fake_features_list.append(fake_features)\n",
    "    mu_fake, mu_real, sigma_fake, sigma_real = get_stat(fake_features_list,real_features_list)\n",
    "    cur_fid = frechet_distance(mu_real, mu_fake, sigma_real, sigma_fake).item()\n",
    "    print(f'FID Score for {emotion} is: {cur_fid}')\n",
    "    return cur_fid"
   ]
  },
  {
   "cell_type": "code",
   "execution_count": 75,
   "id": "c3d4cfbe-c1d3-4edf-aadc-fe6123e159b1",
   "metadata": {},
   "outputs": [
    {
     "ename": "RuntimeError",
     "evalue": "Input type (torch.FloatTensor) and weight type (torch.cuda.FloatTensor) should be the same or input should be a MKLDNN tensor and weight is a dense tensor",
     "output_type": "error",
     "traceback": [
      "\u001b[0;31m---------------------------------------------------------------------------\u001b[0m",
      "\u001b[0;31mRuntimeError\u001b[0m                              Traceback (most recent call last)",
      "Cell \u001b[0;32mIn [75], line 1\u001b[0m\n\u001b[0;32m----> 1\u001b[0m \u001b[43mfind_local_fid\u001b[49m\u001b[43m(\u001b[49m\u001b[38;5;124;43m'\u001b[39;49m\u001b[38;5;124;43mSad\u001b[39;49m\u001b[38;5;124;43m'\u001b[39;49m\u001b[43m)\u001b[49m\n",
      "Cell \u001b[0;32mIn [74], line 16\u001b[0m, in \u001b[0;36mfind_local_fid\u001b[0;34m(emotion)\u001b[0m\n\u001b[1;32m     14\u001b[0m         fake_image \u001b[38;5;241m=\u001b[39m target_dataset[\u001b[38;5;241m0\u001b[39m][\u001b[38;5;241m0\u001b[39m]\n\u001b[1;32m     15\u001b[0m         \u001b[38;5;66;03m#fake_image = preprocess(fake_image)\u001b[39;00m\n\u001b[0;32m---> 16\u001b[0m         fake_features \u001b[38;5;241m=\u001b[39m \u001b[43mclassifier\u001b[49m\u001b[43m(\u001b[49m\u001b[43mfake_image\u001b[49m\u001b[43m)\u001b[49m\n\u001b[1;32m     17\u001b[0m         fake_features_list\u001b[38;5;241m.\u001b[39mappend(fake_features)\n\u001b[1;32m     18\u001b[0m mu_fake, mu_real, sigma_fake, sigma_real \u001b[38;5;241m=\u001b[39m get_stat(fake_features_list,real_features_list)\n",
      "File \u001b[0;32m/usr/local/lib/python3.10/dist-packages/torch/nn/modules/module.py:1190\u001b[0m, in \u001b[0;36mModule._call_impl\u001b[0;34m(self, *input, **kwargs)\u001b[0m\n\u001b[1;32m   1186\u001b[0m \u001b[38;5;66;03m# If we don't have any hooks, we want to skip the rest of the logic in\u001b[39;00m\n\u001b[1;32m   1187\u001b[0m \u001b[38;5;66;03m# this function, and just call forward.\u001b[39;00m\n\u001b[1;32m   1188\u001b[0m \u001b[38;5;28;01mif\u001b[39;00m \u001b[38;5;129;01mnot\u001b[39;00m (\u001b[38;5;28mself\u001b[39m\u001b[38;5;241m.\u001b[39m_backward_hooks \u001b[38;5;129;01mor\u001b[39;00m \u001b[38;5;28mself\u001b[39m\u001b[38;5;241m.\u001b[39m_forward_hooks \u001b[38;5;129;01mor\u001b[39;00m \u001b[38;5;28mself\u001b[39m\u001b[38;5;241m.\u001b[39m_forward_pre_hooks \u001b[38;5;129;01mor\u001b[39;00m _global_backward_hooks\n\u001b[1;32m   1189\u001b[0m         \u001b[38;5;129;01mor\u001b[39;00m _global_forward_hooks \u001b[38;5;129;01mor\u001b[39;00m _global_forward_pre_hooks):\n\u001b[0;32m-> 1190\u001b[0m     \u001b[38;5;28;01mreturn\u001b[39;00m \u001b[43mforward_call\u001b[49m\u001b[43m(\u001b[49m\u001b[38;5;241;43m*\u001b[39;49m\u001b[38;5;28;43minput\u001b[39;49m\u001b[43m,\u001b[49m\u001b[43m \u001b[49m\u001b[38;5;241;43m*\u001b[39;49m\u001b[38;5;241;43m*\u001b[39;49m\u001b[43mkwargs\u001b[49m\u001b[43m)\u001b[49m\n\u001b[1;32m   1191\u001b[0m \u001b[38;5;66;03m# Do not call functions when jit is used\u001b[39;00m\n\u001b[1;32m   1192\u001b[0m full_backward_hooks, non_full_backward_hooks \u001b[38;5;241m=\u001b[39m [], []\n",
      "File \u001b[0;32m/usr/local/lib/python3.10/dist-packages/torchvision/models/resnet.py:285\u001b[0m, in \u001b[0;36mResNet.forward\u001b[0;34m(self, x)\u001b[0m\n\u001b[1;32m    284\u001b[0m \u001b[38;5;28;01mdef\u001b[39;00m \u001b[38;5;21mforward\u001b[39m(\u001b[38;5;28mself\u001b[39m, x: Tensor) \u001b[38;5;241m-\u001b[39m\u001b[38;5;241m>\u001b[39m Tensor:\n\u001b[0;32m--> 285\u001b[0m     \u001b[38;5;28;01mreturn\u001b[39;00m \u001b[38;5;28;43mself\u001b[39;49m\u001b[38;5;241;43m.\u001b[39;49m\u001b[43m_forward_impl\u001b[49m\u001b[43m(\u001b[49m\u001b[43mx\u001b[49m\u001b[43m)\u001b[49m\n",
      "File \u001b[0;32m/usr/local/lib/python3.10/dist-packages/torchvision/models/resnet.py:268\u001b[0m, in \u001b[0;36mResNet._forward_impl\u001b[0;34m(self, x)\u001b[0m\n\u001b[1;32m    266\u001b[0m \u001b[38;5;28;01mdef\u001b[39;00m \u001b[38;5;21m_forward_impl\u001b[39m(\u001b[38;5;28mself\u001b[39m, x: Tensor) \u001b[38;5;241m-\u001b[39m\u001b[38;5;241m>\u001b[39m Tensor:\n\u001b[1;32m    267\u001b[0m     \u001b[38;5;66;03m# See note [TorchScript super()]\u001b[39;00m\n\u001b[0;32m--> 268\u001b[0m     x \u001b[38;5;241m=\u001b[39m \u001b[38;5;28;43mself\u001b[39;49m\u001b[38;5;241;43m.\u001b[39;49m\u001b[43mconv1\u001b[49m\u001b[43m(\u001b[49m\u001b[43mx\u001b[49m\u001b[43m)\u001b[49m\n\u001b[1;32m    269\u001b[0m     x \u001b[38;5;241m=\u001b[39m \u001b[38;5;28mself\u001b[39m\u001b[38;5;241m.\u001b[39mbn1(x)\n\u001b[1;32m    270\u001b[0m     x \u001b[38;5;241m=\u001b[39m \u001b[38;5;28mself\u001b[39m\u001b[38;5;241m.\u001b[39mrelu(x)\n",
      "File \u001b[0;32m/usr/local/lib/python3.10/dist-packages/torch/nn/modules/module.py:1190\u001b[0m, in \u001b[0;36mModule._call_impl\u001b[0;34m(self, *input, **kwargs)\u001b[0m\n\u001b[1;32m   1186\u001b[0m \u001b[38;5;66;03m# If we don't have any hooks, we want to skip the rest of the logic in\u001b[39;00m\n\u001b[1;32m   1187\u001b[0m \u001b[38;5;66;03m# this function, and just call forward.\u001b[39;00m\n\u001b[1;32m   1188\u001b[0m \u001b[38;5;28;01mif\u001b[39;00m \u001b[38;5;129;01mnot\u001b[39;00m (\u001b[38;5;28mself\u001b[39m\u001b[38;5;241m.\u001b[39m_backward_hooks \u001b[38;5;129;01mor\u001b[39;00m \u001b[38;5;28mself\u001b[39m\u001b[38;5;241m.\u001b[39m_forward_hooks \u001b[38;5;129;01mor\u001b[39;00m \u001b[38;5;28mself\u001b[39m\u001b[38;5;241m.\u001b[39m_forward_pre_hooks \u001b[38;5;129;01mor\u001b[39;00m _global_backward_hooks\n\u001b[1;32m   1189\u001b[0m         \u001b[38;5;129;01mor\u001b[39;00m _global_forward_hooks \u001b[38;5;129;01mor\u001b[39;00m _global_forward_pre_hooks):\n\u001b[0;32m-> 1190\u001b[0m     \u001b[38;5;28;01mreturn\u001b[39;00m \u001b[43mforward_call\u001b[49m\u001b[43m(\u001b[49m\u001b[38;5;241;43m*\u001b[39;49m\u001b[38;5;28;43minput\u001b[39;49m\u001b[43m,\u001b[49m\u001b[43m \u001b[49m\u001b[38;5;241;43m*\u001b[39;49m\u001b[38;5;241;43m*\u001b[39;49m\u001b[43mkwargs\u001b[49m\u001b[43m)\u001b[49m\n\u001b[1;32m   1191\u001b[0m \u001b[38;5;66;03m# Do not call functions when jit is used\u001b[39;00m\n\u001b[1;32m   1192\u001b[0m full_backward_hooks, non_full_backward_hooks \u001b[38;5;241m=\u001b[39m [], []\n",
      "File \u001b[0;32m/usr/local/lib/python3.10/dist-packages/torch/nn/modules/conv.py:463\u001b[0m, in \u001b[0;36mConv2d.forward\u001b[0;34m(self, input)\u001b[0m\n\u001b[1;32m    462\u001b[0m \u001b[38;5;28;01mdef\u001b[39;00m \u001b[38;5;21mforward\u001b[39m(\u001b[38;5;28mself\u001b[39m, \u001b[38;5;28minput\u001b[39m: Tensor) \u001b[38;5;241m-\u001b[39m\u001b[38;5;241m>\u001b[39m Tensor:\n\u001b[0;32m--> 463\u001b[0m     \u001b[38;5;28;01mreturn\u001b[39;00m \u001b[38;5;28;43mself\u001b[39;49m\u001b[38;5;241;43m.\u001b[39;49m\u001b[43m_conv_forward\u001b[49m\u001b[43m(\u001b[49m\u001b[38;5;28;43minput\u001b[39;49m\u001b[43m,\u001b[49m\u001b[43m \u001b[49m\u001b[38;5;28;43mself\u001b[39;49m\u001b[38;5;241;43m.\u001b[39;49m\u001b[43mweight\u001b[49m\u001b[43m,\u001b[49m\u001b[43m \u001b[49m\u001b[38;5;28;43mself\u001b[39;49m\u001b[38;5;241;43m.\u001b[39;49m\u001b[43mbias\u001b[49m\u001b[43m)\u001b[49m\n",
      "File \u001b[0;32m/usr/local/lib/python3.10/dist-packages/torch/nn/modules/conv.py:459\u001b[0m, in \u001b[0;36mConv2d._conv_forward\u001b[0;34m(self, input, weight, bias)\u001b[0m\n\u001b[1;32m    455\u001b[0m \u001b[38;5;28;01mif\u001b[39;00m \u001b[38;5;28mself\u001b[39m\u001b[38;5;241m.\u001b[39mpadding_mode \u001b[38;5;241m!=\u001b[39m \u001b[38;5;124m'\u001b[39m\u001b[38;5;124mzeros\u001b[39m\u001b[38;5;124m'\u001b[39m:\n\u001b[1;32m    456\u001b[0m     \u001b[38;5;28;01mreturn\u001b[39;00m F\u001b[38;5;241m.\u001b[39mconv2d(F\u001b[38;5;241m.\u001b[39mpad(\u001b[38;5;28minput\u001b[39m, \u001b[38;5;28mself\u001b[39m\u001b[38;5;241m.\u001b[39m_reversed_padding_repeated_twice, mode\u001b[38;5;241m=\u001b[39m\u001b[38;5;28mself\u001b[39m\u001b[38;5;241m.\u001b[39mpadding_mode),\n\u001b[1;32m    457\u001b[0m                     weight, bias, \u001b[38;5;28mself\u001b[39m\u001b[38;5;241m.\u001b[39mstride,\n\u001b[1;32m    458\u001b[0m                     _pair(\u001b[38;5;241m0\u001b[39m), \u001b[38;5;28mself\u001b[39m\u001b[38;5;241m.\u001b[39mdilation, \u001b[38;5;28mself\u001b[39m\u001b[38;5;241m.\u001b[39mgroups)\n\u001b[0;32m--> 459\u001b[0m \u001b[38;5;28;01mreturn\u001b[39;00m \u001b[43mF\u001b[49m\u001b[38;5;241;43m.\u001b[39;49m\u001b[43mconv2d\u001b[49m\u001b[43m(\u001b[49m\u001b[38;5;28;43minput\u001b[39;49m\u001b[43m,\u001b[49m\u001b[43m \u001b[49m\u001b[43mweight\u001b[49m\u001b[43m,\u001b[49m\u001b[43m \u001b[49m\u001b[43mbias\u001b[49m\u001b[43m,\u001b[49m\u001b[43m \u001b[49m\u001b[38;5;28;43mself\u001b[39;49m\u001b[38;5;241;43m.\u001b[39;49m\u001b[43mstride\u001b[49m\u001b[43m,\u001b[49m\n\u001b[1;32m    460\u001b[0m \u001b[43m                \u001b[49m\u001b[38;5;28;43mself\u001b[39;49m\u001b[38;5;241;43m.\u001b[39;49m\u001b[43mpadding\u001b[49m\u001b[43m,\u001b[49m\u001b[43m \u001b[49m\u001b[38;5;28;43mself\u001b[39;49m\u001b[38;5;241;43m.\u001b[39;49m\u001b[43mdilation\u001b[49m\u001b[43m,\u001b[49m\u001b[43m \u001b[49m\u001b[38;5;28;43mself\u001b[39;49m\u001b[38;5;241;43m.\u001b[39;49m\u001b[43mgroups\u001b[49m\u001b[43m)\u001b[49m\n",
      "\u001b[0;31mRuntimeError\u001b[0m: Input type (torch.FloatTensor) and weight type (torch.cuda.FloatTensor) should be the same or input should be a MKLDNN tensor and weight is a dense tensor"
     ]
    }
   ],
   "source": [
    "find_local_fid('Sad')"
   ]
  },
  {
   "cell_type": "code",
   "execution_count": 76,
   "id": "0bd83350-cd24-457c-b78d-926089439f1a",
   "metadata": {},
   "outputs": [
    {
     "data": {
      "text/plain": [
       "torch.Size([3, 640, 480])"
      ]
     },
     "execution_count": 76,
     "metadata": {},
     "output_type": "execute_result"
    }
   ],
   "source": [
    "target_dataset[0][0].shape"
   ]
  },
  {
   "cell_type": "code",
   "execution_count": null,
   "id": "dc6721a8-aa86-4606-a92c-2b08959cf65c",
   "metadata": {},
   "outputs": [],
   "source": []
  }
 ],
 "metadata": {
  "kernelspec": {
   "display_name": "Python 3 (ipykernel)",
   "language": "python",
   "name": "python3"
  },
  "language_info": {
   "codemirror_mode": {
    "name": "ipython",
    "version": 3
   },
   "file_extension": ".py",
   "mimetype": "text/x-python",
   "name": "python",
   "nbconvert_exporter": "python",
   "pygments_lexer": "ipython3",
   "version": "3.10.6"
  }
 },
 "nbformat": 4,
 "nbformat_minor": 5
}
