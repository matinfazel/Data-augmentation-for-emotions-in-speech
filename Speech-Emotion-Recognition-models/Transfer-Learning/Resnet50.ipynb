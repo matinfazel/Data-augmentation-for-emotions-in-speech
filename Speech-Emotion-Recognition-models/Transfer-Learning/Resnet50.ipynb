{
  "cells": [
    {
      "cell_type": "code",
      "execution_count": 1,
      "metadata": {
        "id": "wU3HmTEDCt19"
      },
      "outputs": [],
      "source": [
        "from torchvision.datasets import ImageFolder\n",
        "import torch\n",
        "import torchvision\n",
        "import torch.nn as nn\n",
        "import torch.optim as optim\n",
        "import torchvision.models as models\n",
        "import torchvision.transforms as transforms\n",
        "from torch.utils.data import DataLoader\n",
        "import numpy as np\n",
        "import time\n",
        "import matplotlib.pyplot as plt\n",
        "import seaborn as sns\n",
        "from tqdm import tqdm\n",
        "from torch.utils.data import random_split\n",
        "from sklearn.metrics import f1_score\n",
        "from sklearn.metrics import confusion_matrix"
      ]
    },
    {
      "cell_type": "code",
      "execution_count": 2,
      "metadata": {
        "colab": {
          "base_uri": "https://localhost:8080/"
        },
        "id": "Z9Zg2Wnsgdq-",
        "outputId": "e036a8b4-8c65-46d5-b763-99dea7aa86eb"
      },
      "outputs": [
        {
          "name": "stdout",
          "output_type": "stream",
          "text": [
            "Drive already mounted at /content/drive; to attempt to forcibly remount, call drive.mount(\"/content/drive\", force_remount=True).\n"
          ]
        }
      ],
      "source": [
        "from google.colab import drive\n",
        "drive.mount('/content/drive')"
      ]
    },
    {
      "cell_type": "code",
      "execution_count": 3,
      "metadata": {
        "id": "3TnG-kwDDNLf"
      },
      "outputs": [],
      "source": [
        "device = torch.device(\"cuda\" if torch.cuda.is_available() else \"cpu\")"
      ]
    },
    {
      "cell_type": "code",
      "execution_count": 4,
      "metadata": {
        "colab": {
          "base_uri": "https://localhost:8080/"
        },
        "id": "ht49fyKN5UZ_",
        "outputId": "6eb5154f-8a03-47e6-e639-aee4fd5454d3"
      },
      "outputs": [
        {
          "name": "stdout",
          "output_type": "stream",
          "text": [
            "Downloading...\n",
            "From: https://drive.google.com/uc?id=1IzU7-mLuVU0kdsSq1Xf0UmdHQDH5_IUq\n",
            "To: /content/Spec.rar\n",
            "100% 171M/171M [00:01<00:00, 104MB/s]\n"
          ]
        }
      ],
      "source": [
        "!gdown 1IzU7-mLuVU0kdsSq1Xf0UmdHQDH5_IUq"
      ]
    },
    {
      "cell_type": "code",
      "execution_count": null,
      "metadata": {
        "id": "l5PYrwRfx9Tw"
      },
      "outputs": [],
      "source": [
        "!unrar x Spec.rar"
      ]
    },
    {
      "cell_type": "code",
      "execution_count": 5,
      "metadata": {
        "id": "mXE7Mk5Zm5p3"
      },
      "outputs": [],
      "source": [
        "!rm /content/Spec/neutral/75-98-01-50-86-22-46.png"
      ]
    },
    {
      "cell_type": "code",
      "execution_count": 6,
      "metadata": {
        "id": "FgQRKiPNDWgy"
      },
      "outputs": [],
      "source": [
        "data_transform = transforms.Compose([\n",
        "    transforms.Resize((224, 224)),\n",
        "    transforms.ToTensor(),\n",
        "    transforms.Normalize([0.485, 0.456, 0.406], [0.229, 0.224, 0.225]) # normalization\n",
        "])"
      ]
    },
    {
      "cell_type": "code",
      "execution_count": 7,
      "metadata": {
        "id": "oaeJid48DZOV"
      },
      "outputs": [],
      "source": [
        "dataset = ImageFolder('/content/Spec',transform=data_transform)"
      ]
    },
    {
      "cell_type": "markdown",
      "metadata": {
        "id": "IfgMHQSKoDuW"
      },
      "source": [
        "#The Frequency of each class in the dataset"
      ]
    },
    {
      "cell_type": "code",
      "execution_count": 8,
      "metadata": {
        "colab": {
          "base_uri": "https://localhost:8080/"
        },
        "id": "UEch6NNVkRqm",
        "outputId": "931565e9-8fb8-4d2f-98d7-b25fc5b01471"
      },
      "outputs": [
        {
          "name": "stdout",
          "output_type": "stream",
          "text": [
            "angry: 935 instances\n",
            "disgust: 652 instances\n",
            "fear: 652 instances\n",
            "happy: 932 instances\n",
            "neutral: 876 instances\n",
            "sad: 852 instances\n"
          ]
        }
      ],
      "source": [
        "dataloader = DataLoader(dataset, batch_size=1, shuffle=True)\n",
        "class_counts = {class_idx: 0 for class_idx in range(len(dataset.classes))}\n",
        "\n",
        "for _, label in dataloader:\n",
        "    class_counts[label[0].item()] += 1\n",
        "\n",
        "for class_idx, count in class_counts.items():\n",
        "    class_name = dataset.classes[class_idx]\n",
        "    print(f\"{class_name}: {count} instances\")"
      ]
    },
    {
      "cell_type": "code",
      "execution_count": 19,
      "metadata": {
        "colab": {
          "base_uri": "https://localhost:8080/",
          "height": 487
        },
        "id": "BVKphpznnVmT",
        "outputId": "0a29567c-5e0d-46c9-f2e5-7b81e620595a"
      },
      "outputs": [
        {
          "data": {
            "image/png": "[encoded data removed]",
            "text/plain": [
              "<Figure size 640x480 with 1 Axes>"
            ]
          },
          "metadata": {},
          "output_type": "display_data"
        }
      ],
      "source": [
        "categories = dataset.classes\n",
        "values = list(class_counts.values())\n",
        "\n",
        "plt.bar(categories, values)\n",
        "\n",
        "plt.xlabel('Categories')\n",
        "plt.ylabel('Values')\n",
        "plt.title('The size of each category')\n",
        "\n",
        "plt.xticks(rotation=45)\n",
        "plt.tight_layout()\n",
        "plt.show()"
      ]
    },
    {
      "cell_type": "code",
      "execution_count": 10,
      "metadata": {
        "id": "CMuoLtmYDzqB"
      },
      "outputs": [],
      "source": [
        "train_size = int(0.8 * len(dataset))\n",
        "test_size = len(dataset) - train_size\n",
        "train_set, test_set = random_split(dataset, [train_size, test_size])"
      ]
    },
    {
      "cell_type": "code",
      "execution_count": 11,
      "metadata": {
        "id": "JW3K4pGOD0bU"
      },
      "outputs": [],
      "source": [
        "train_loader = DataLoader(train_set, batch_size=32, shuffle=True)\n",
        "test_loader = DataLoader(test_set, batch_size=32, shuffle=False)"
      ]
    },
    {
      "cell_type": "code",
      "execution_count": 12,
      "metadata": {
        "id": "_mXc3-RsD2Hn"
      },
      "outputs": [],
      "source": [
        "classes = dataset.classes\n",
        "num_emotions = len(classes)"
      ]
    },
    {
      "cell_type": "markdown",
      "metadata": {
        "id": "wE08vSBloXQq"
      },
      "source": [
        "# Loading the Resnet50 as the detection model for SER"
      ]
    },
    {
      "cell_type": "code",
      "execution_count": 32,
      "metadata": {
        "colab": {
          "base_uri": "https://localhost:8080/"
        },
        "id": "9OQhTYVuD3il",
        "outputId": "0a29f27b-3097-4fd5-9e73-5cad02a7977c"
      },
      "outputs": [
        {
          "name": "stderr",
          "output_type": "stream",
          "text": [
            "/usr/local/lib/python3.10/dist-packages/torchvision/models/_utils.py:223: UserWarning: Arguments other than a weight enum or `None` for 'weights' are deprecated since 0.13 and may be removed in the future. The current behavior is equivalent to passing `weights=ResNet50_Weights.IMAGENET1K_V1`. You can also use `weights=ResNet50_Weights.DEFAULT` to get the most up-to-date weights.\n",
            "  warnings.warn(msg)\n"
          ]
        }
      ],
      "source": [
        "model = models.resnet50(weights=True)"
      ]
    },
    {
      "cell_type": "code",
      "execution_count": 33,
      "metadata": {
        "id": "GkQuokENEg0-"
      },
      "outputs": [],
      "source": [
        "num_features = model.fc.in_features\n",
        "model.fc = nn.Linear(num_features, num_emotions)\n",
        "model = model.to(device)\n",
        "criterion = nn.CrossEntropyLoss()\n",
        "optimizer = optim.Adam(model.parameters())"
      ]
    },
    {
      "cell_type": "markdown",
      "metadata": {
        "id": "D9njXSPsojvQ"
      },
      "source": [
        "###Freezing each layer except the last one"
      ]
    },
    {
      "cell_type": "code",
      "execution_count": 34,
      "metadata": {
        "id": "y1RQPf4kEh1Z"
      },
      "outputs": [],
      "source": [
        "for name, param in model.named_parameters():\n",
        "    if param.requires_grad and 'fc' not in name:\n",
        "        param.requires_grad = False"
      ]
    },
    {
      "cell_type": "code",
      "execution_count": 35,
      "metadata": {
        "id": "77rhgg5JEmii"
      },
      "outputs": [],
      "source": [
        "def plot_accuracy(train_accuracy,label=\"\"):\n",
        "    epochs = np.arange(1, len(train_accuracy) + 1)\n",
        "\n",
        "    plt.plot(epochs, train_accuracy, 'b', label=f'{label} Accuracy')\n",
        "    plt.title(f'{label} Accuracy')\n",
        "    plt.xlabel('Epochs')\n",
        "    plt.ylabel('Accuracy')\n",
        "    plt.legend()\n",
        "    plt.show()"
      ]
    },
    {
      "cell_type": "markdown",
      "metadata": {
        "id": "yiyVVaFZo2Yo"
      },
      "source": [
        "# Training the model and printing accuracy and F1-score"
      ]
    },
    {
      "cell_type": "code",
      "execution_count": 36,
      "metadata": {
        "id": "MQX6NGVBEoQ4"
      },
      "outputs": [],
      "source": [
        "def train_model():\n",
        "  F1_Test = []\n",
        "  loss_train = []\n",
        "\n",
        "  num_epochs = 20\n",
        "  start_time = time.time()\n",
        "  for epoch in range(num_epochs):\n",
        "      \"\"\" Training Phase \"\"\"\n",
        "      model.train()\n",
        "      running_loss = 0.\n",
        "      with tqdm(train_loader,unit=\"batch\") as tepoch:\n",
        "          tepoch.set_description(f\"Epoch {epoch+1}/{num_epochs}\")\n",
        "          for inputs, labels in tepoch:\n",
        "              inputs = inputs.to(device)\n",
        "              labels = labels.to(device)\n",
        "\n",
        "              optimizer.zero_grad()\n",
        "              outputs = model(inputs)\n",
        "              _, preds = torch.max(outputs, 1)\n",
        "              loss = criterion(outputs, labels)\n",
        "\n",
        "              loss.backward()\n",
        "              optimizer.step()\n",
        "              running_loss += loss.item() * inputs.size(0)\n",
        "              tepoch.set_postfix(loss=loss.item())\n",
        "      epoch_loss = loss.item()\n",
        "      loss_train.append(epoch_loss)\n",
        "\n",
        "\n",
        "      with torch.no_grad():\n",
        "          running_corrects = 0\n",
        "          predictions = []\n",
        "          true_labels = []\n",
        "          for inputs, labels in test_loader:\n",
        "              inputs = inputs.to(device)\n",
        "              labels = labels.to(device)\n",
        "              outputs = model(inputs)\n",
        "              _, preds = torch.max(outputs, 1)\n",
        "              loss = criterion(outputs, labels)\n",
        "              running_corrects += torch.sum(preds == labels.data)\n",
        "              predictions.extend(preds.tolist())\n",
        "              true_labels.extend(labels.tolist())\n",
        "\n",
        "          epoch_acc = running_corrects / len(test_set) * 100.\n",
        "          f1 = f1_score(true_labels, predictions, average='macro') * 100\n",
        "          F1_Test.append(f1)\n",
        "          print('[Valid #{}] Loss: {:.4f} Acc: {:.4f} F1: {:.4f}% Time: {:.4f}s'.format(epoch, epoch_loss, epoch_acc, f1, time.time()- start_time))\n",
        "  return F1_Test ,loss_train\n"
      ]
    },
    {
      "cell_type": "code",
      "execution_count": 37,
      "metadata": {
        "colab": {
          "base_uri": "https://localhost:8080/"
        },
        "id": "EbDabna5Epq0",
        "outputId": "d99b3189-bdd1-4c9b-eb3b-6162d07e97ed"
      },
      "outputs": [
        {
          "name": "stderr",
          "output_type": "stream",
          "text": [
            "Epoch 1/20: 100%|██████████| 123/123 [00:45<00:00,  2.71batch/s, loss=1.28]\n"
          ]
        },
        {
          "name": "stdout",
          "output_type": "stream",
          "text": [
            "[Valid #0] Loss: 1.2754 Acc: 72.2449 F1: 72.4236% Time: 56.8854s\n"
          ]
        },
        {
          "name": "stderr",
          "output_type": "stream",
          "text": [
            "Epoch 2/20: 100%|██████████| 123/123 [00:46<00:00,  2.62batch/s, loss=1.03]\n"
          ]
        },
        {
          "name": "stdout",
          "output_type": "stream",
          "text": [
            "[Valid #1] Loss: 1.0314 Acc: 72.0408 F1: 72.5381% Time: 114.3104s\n"
          ]
        },
        {
          "name": "stderr",
          "output_type": "stream",
          "text": [
            "Epoch 3/20: 100%|██████████| 123/123 [00:45<00:00,  2.69batch/s, loss=0.923]\n"
          ]
        },
        {
          "name": "stdout",
          "output_type": "stream",
          "text": [
            "[Valid #2] Loss: 0.9235 Acc: 74.2857 F1: 74.2804% Time: 171.3542s\n"
          ]
        },
        {
          "name": "stderr",
          "output_type": "stream",
          "text": [
            "Epoch 4/20: 100%|██████████| 123/123 [00:44<00:00,  2.76batch/s, loss=0.725]\n"
          ]
        },
        {
          "name": "stdout",
          "output_type": "stream",
          "text": [
            "[Valid #3] Loss: 0.7245 Acc: 76.9388 F1: 77.3139% Time: 227.4039s\n"
          ]
        },
        {
          "name": "stderr",
          "output_type": "stream",
          "text": [
            "Epoch 5/20: 100%|██████████| 123/123 [00:45<00:00,  2.67batch/s, loss=0.791]\n"
          ]
        },
        {
          "name": "stdout",
          "output_type": "stream",
          "text": [
            "[Valid #4] Loss: 0.7907 Acc: 75.3061 F1: 76.3027% Time: 283.3776s\n"
          ]
        },
        {
          "name": "stderr",
          "output_type": "stream",
          "text": [
            "Epoch 6/20: 100%|██████████| 123/123 [00:45<00:00,  2.70batch/s, loss=1.02]\n"
          ]
        },
        {
          "name": "stdout",
          "output_type": "stream",
          "text": [
            "[Valid #5] Loss: 1.0206 Acc: 78.3673 F1: 78.3457% Time: 340.3704s\n"
          ]
        },
        {
          "name": "stderr",
          "output_type": "stream",
          "text": [
            "Epoch 7/20: 100%|██████████| 123/123 [00:44<00:00,  2.78batch/s, loss=0.905]\n"
          ]
        },
        {
          "name": "stdout",
          "output_type": "stream",
          "text": [
            "[Valid #6] Loss: 0.9050 Acc: 76.7347 F1: 77.3780% Time: 395.9020s\n"
          ]
        },
        {
          "name": "stderr",
          "output_type": "stream",
          "text": [
            "Epoch 8/20: 100%|██████████| 123/123 [00:45<00:00,  2.70batch/s, loss=0.523]\n"
          ]
        },
        {
          "name": "stdout",
          "output_type": "stream",
          "text": [
            "[Valid #7] Loss: 0.5233 Acc: 77.6531 F1: 78.3915% Time: 451.6601s\n"
          ]
        },
        {
          "name": "stderr",
          "output_type": "stream",
          "text": [
            "Epoch 9/20: 100%|██████████| 123/123 [00:45<00:00,  2.72batch/s, loss=0.257]\n"
          ]
        },
        {
          "name": "stdout",
          "output_type": "stream",
          "text": [
            "[Valid #8] Loss: 0.2571 Acc: 78.4694 F1: 78.8466% Time: 508.5247s\n"
          ]
        },
        {
          "name": "stderr",
          "output_type": "stream",
          "text": [
            "Epoch 10/20: 100%|██████████| 123/123 [00:44<00:00,  2.74batch/s, loss=0.282]\n"
          ]
        },
        {
          "name": "stdout",
          "output_type": "stream",
          "text": [
            "[Valid #9] Loss: 0.2824 Acc: 79.8980 F1: 80.1602% Time: 564.1629s\n"
          ]
        },
        {
          "name": "stderr",
          "output_type": "stream",
          "text": [
            "Epoch 11/20: 100%|██████████| 123/123 [00:45<00:00,  2.71batch/s, loss=0.824]\n"
          ]
        },
        {
          "name": "stdout",
          "output_type": "stream",
          "text": [
            "[Valid #10] Loss: 0.8242 Acc: 80.3061 F1: 80.6087% Time: 620.2561s\n"
          ]
        },
        {
          "name": "stderr",
          "output_type": "stream",
          "text": [
            "Epoch 12/20: 100%|██████████| 123/123 [00:44<00:00,  2.76batch/s, loss=0.919]\n"
          ]
        },
        {
          "name": "stdout",
          "output_type": "stream",
          "text": [
            "[Valid #11] Loss: 0.9191 Acc: 81.4286 F1: 81.6909% Time: 676.4832s\n"
          ]
        },
        {
          "name": "stderr",
          "output_type": "stream",
          "text": [
            "Epoch 13/20: 100%|██████████| 123/123 [00:44<00:00,  2.75batch/s, loss=0.779]\n"
          ]
        },
        {
          "name": "stdout",
          "output_type": "stream",
          "text": [
            "[Valid #12] Loss: 0.7793 Acc: 80.4082 F1: 80.6437% Time: 731.7216s\n"
          ]
        },
        {
          "name": "stderr",
          "output_type": "stream",
          "text": [
            "Epoch 14/20: 100%|██████████| 123/123 [00:45<00:00,  2.71batch/s, loss=0.73]\n"
          ]
        },
        {
          "name": "stdout",
          "output_type": "stream",
          "text": [
            "[Valid #13] Loss: 0.7296 Acc: 80.3061 F1: 80.2540% Time: 788.1449s\n"
          ]
        },
        {
          "name": "stderr",
          "output_type": "stream",
          "text": [
            "Epoch 15/20: 100%|██████████| 123/123 [00:44<00:00,  2.76batch/s, loss=0.499]\n"
          ]
        },
        {
          "name": "stdout",
          "output_type": "stream",
          "text": [
            "[Valid #14] Loss: 0.4988 Acc: 79.5918 F1: 79.8130% Time: 844.3863s\n"
          ]
        },
        {
          "name": "stderr",
          "output_type": "stream",
          "text": [
            "Epoch 16/20: 100%|██████████| 123/123 [00:45<00:00,  2.73batch/s, loss=0.387]\n"
          ]
        },
        {
          "name": "stdout",
          "output_type": "stream",
          "text": [
            "[Valid #15] Loss: 0.3875 Acc: 79.1837 F1: 79.2420% Time: 899.6134s\n"
          ]
        },
        {
          "name": "stderr",
          "output_type": "stream",
          "text": [
            "Epoch 17/20: 100%|██████████| 123/123 [00:45<00:00,  2.70batch/s, loss=0.673]\n"
          ]
        },
        {
          "name": "stdout",
          "output_type": "stream",
          "text": [
            "[Valid #16] Loss: 0.6728 Acc: 75.0000 F1: 76.0894% Time: 956.5900s\n"
          ]
        },
        {
          "name": "stderr",
          "output_type": "stream",
          "text": [
            "Epoch 18/20: 100%|██████████| 123/123 [00:44<00:00,  2.77batch/s, loss=0.331]\n"
          ]
        },
        {
          "name": "stdout",
          "output_type": "stream",
          "text": [
            "[Valid #17] Loss: 0.3315 Acc: 80.7143 F1: 80.7282% Time: 1012.5914s\n"
          ]
        },
        {
          "name": "stderr",
          "output_type": "stream",
          "text": [
            "Epoch 19/20: 100%|██████████| 123/123 [00:45<00:00,  2.70batch/s, loss=0.2]\n"
          ]
        },
        {
          "name": "stdout",
          "output_type": "stream",
          "text": [
            "[Valid #18] Loss: 0.2003 Acc: 78.4694 F1: 78.5970% Time: 1068.1896s\n"
          ]
        },
        {
          "name": "stderr",
          "output_type": "stream",
          "text": [
            "Epoch 20/20: 100%|██████████| 123/123 [00:45<00:00,  2.71batch/s, loss=0.385]\n"
          ]
        },
        {
          "name": "stdout",
          "output_type": "stream",
          "text": [
            "[Valid #19] Loss: 0.3852 Acc: 81.3265 F1: 81.7231% Time: 1125.1561s\n"
          ]
        }
      ],
      "source": [
        "F1_Test, loss_train = train_model()"
      ]
    },
    {
      "cell_type": "code",
      "execution_count": 38,
      "metadata": {
        "colab": {
          "base_uri": "https://localhost:8080/"
        },
        "id": "XaMP9REgvJSc",
        "outputId": "96a9eaa5-b8c3-483c-ced0-1c6fe9e32c4e"
      },
      "outputs": [
        {
          "data": {
            "text/plain": [
              "([72.4235975848118,\n",
              "  72.53812742851262,\n",
              "  74.28039863188802,\n",
              "  77.31385740867078,\n",
              "  76.30268642110427,\n",
              "  78.34566473286458,\n",
              "  77.37804982002997,\n",
              "  78.39145944952891,\n",
              "  78.84658843560395,\n",
              "  80.16018631560834,\n",
              "  80.60870977178635,\n",
              "  81.69094181937248,\n",
              "  80.6437398939309,\n",
              "  80.25404710412657,\n",
              "  79.81296523320198,\n",
              "  79.24202945350004,\n",
              "  76.08937606703536,\n",
              "  80.72815324615696,\n",
              "  78.59697154242417,\n",
              "  81.72308502136431],\n",
              " [1.2754229307174683,\n",
              "  1.0313876867294312,\n",
              "  0.923462450504303,\n",
              "  0.7245166301727295,\n",
              "  0.7906742691993713,\n",
              "  1.0206190347671509,\n",
              "  0.9049657583236694,\n",
              "  0.5233226418495178,\n",
              "  0.2571360766887665,\n",
              "  0.28235703706741333,\n",
              "  0.824231743812561,\n",
              "  0.9190911650657654,\n",
              "  0.7792766690254211,\n",
              "  0.7296257615089417,\n",
              "  0.49878990650177,\n",
              "  0.3874732255935669,\n",
              "  0.67283034324646,\n",
              "  0.3314819633960724,\n",
              "  0.20030806958675385,\n",
              "  0.38515278697013855])"
            ]
          },
          "execution_count": 38,
          "metadata": {},
          "output_type": "execute_result"
        }
      ],
      "source": [
        "F1_Test, loss_train"
      ]
    },
    {
      "cell_type": "code",
      "execution_count": 24,
      "metadata": {
        "colab": {
          "base_uri": "https://localhost:8080/"
        },
        "id": "pZVi66fbvqX8",
        "outputId": "09fbfd87-8b9b-417e-9beb-bd0c1d7ae44e"
      },
      "outputs": [
        {
          "data": {
            "text/plain": [
              "20"
            ]
          },
          "execution_count": 24,
          "metadata": {},
          "output_type": "execute_result"
        }
      ],
      "source": [
        "len(F1_Test)"
      ]
    },
    {
      "cell_type": "code",
      "execution_count": 44,
      "metadata": {
        "colab": {
          "base_uri": "https://localhost:8080/",
          "height": 402
        },
        "id": "xU2fPl8vulLK",
        "outputId": "062e2adc-c1a1-404d-b811-1fcb43171e8c"
      },
      "outputs": [
        {
          "data": {
            "image/png": "[encoded data removed]",
            "text/plain": [
              "<Figure size 1200x500 with 2 Axes>"
            ]
          },
          "metadata": {},
          "output_type": "display_data"
        }
      ],
      "source": [
        "fig, (ax1, ax2) = plt.subplots(1, 2, figsize=(12, 5))\n",
        "\n",
        "# Plotting loss\n",
        "epochs = [i for i in range(1,21)]\n",
        "ax1.plot(epochs, loss_train, label='Loss')\n",
        "ax1.set_title('Loss Over Epochs')\n",
        "ax1.set_xlabel('Epochs')\n",
        "ax1.set_ylabel('Loss')\n",
        "ax1.legend()\n",
        "ax1.grid(True)\n",
        "\n",
        "# Plotting accuracy\n",
        "ax2.plot(epochs, F1_Test, label='Accuracy', marker='x', linestyle='--')\n",
        "ax2.set_title('F1-Score Over Epochs')\n",
        "ax2.set_xlabel('Epochs')\n",
        "ax2.set_ylabel('F1-Score')\n",
        "ax2.legend()\n",
        "ax2.grid(True)\n",
        "\n",
        "# Adjust layout\n",
        "plt.tight_layout()\n",
        "plt.show()"
      ]
    },
    {
      "cell_type": "markdown",
      "metadata": {
        "id": "vKxsVfVzo_5I"
      },
      "source": [
        "###The confusion matrix"
      ]
    },
    {
      "cell_type": "code",
      "execution_count": 45,
      "metadata": {
        "id": "4rlhEv76Hkhr"
      },
      "outputs": [],
      "source": [
        "predictions = []\n",
        "true_labels = []\n",
        "with torch.no_grad():\n",
        "  for inputs, labels in test_loader:\n",
        "      inputs = inputs.to(device)\n",
        "      labels = labels.to(device)\n",
        "      outputs = model(inputs)\n",
        "      _, predicted = torch.max(outputs, 1)\n",
        "      predictions.extend(predicted.tolist())\n",
        "      true_labels.extend(labels.tolist())\n",
        "\n",
        "conf_matrix = confusion_matrix(true_labels, predictions)"
      ]
    },
    {
      "cell_type": "code",
      "execution_count": 46,
      "metadata": {
        "colab": {
          "base_uri": "https://localhost:8080/",
          "height": 564
        },
        "id": "veIqS3DMJKvd",
        "outputId": "f27f37ab-25d8-447e-d239-49dae8b17f1c"
      },
      "outputs": [
        {
          "data": {
            "image/png": "[encoded data removed]",
            "text/plain": [
              "<Figure size 800x600 with 2 Axes>"
            ]
          },
          "metadata": {},
          "output_type": "display_data"
        }
      ],
      "source": [
        "plt.figure(figsize=(8, 6))\n",
        "sns.heatmap(conf_matrix, annot=True, cmap='Blues', fmt='g')\n",
        "\n",
        "plt.title('Confusion Matrix')\n",
        "plt.xlabel('Predicted labels')\n",
        "plt.ylabel('True labels')\n",
        "plt.xticks(ticks=np.arange(len(dataset.classes)) + 0.5, labels=dataset.classes)\n",
        "plt.yticks(ticks=np.arange(len(dataset.classes)) + 0.5, labels=dataset.classes)\n",
        "\n",
        "plt.show()"
      ]
    },
    {
      "cell_type": "markdown",
      "metadata": {
        "id": "KmurwwhrpEYy"
      },
      "source": [
        "###Saving the model"
      ]
    },
    {
      "cell_type": "code",
      "execution_count": null,
      "metadata": {
        "id": "QXa0FU6IE1so"
      },
      "outputs": [],
      "source": [
        "model_save_name = 'SER_Teess_Savee_Ravdess_classifier.pth'\n",
        "path = f\"/content/drive/MyDrive/{model_save_name}\"\n",
        "torch.save(model.state_dict(), path)"
      ]
    }
  ],
  "metadata": {
    "accelerator": "GPU",
    "colab": {
      "provenance": []
    },
    "kernelspec": {
      "display_name": "Python 3",
      "name": "python3"
    },
    "language_info": {
      "name": "python"
    }
  },
  "nbformat": 4,
  "nbformat_minor": 0
}
