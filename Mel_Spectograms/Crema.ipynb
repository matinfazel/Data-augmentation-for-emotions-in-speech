{
 "cells": [
  {
   "cell_type": "code",
   "execution_count": null,
   "metadata": {},
   "outputs": [],
   "source": [
    "#import modules \n",
    "import os\n",
    "import shutil\n",
    "import random"
   ]
  },
  {
   "cell_type": "code",
   "execution_count": null,
   "metadata": {},
   "outputs": [],
   "source": [
    "TRAINING_FILES_PATH = 'Training_Files/'\n",
    "crema_original_data_path = \"Crema/\""
   ]
  },
  {
   "cell_type": "code",
   "execution_count": null,
   "metadata": {},
   "outputs": [],
   "source": [
    "class CremaPipeline:\n",
    "\n",
    "    @staticmethod\n",
    "    def create_crema_folder(path):\n",
    "       \n",
    "        counter = 0\n",
    "\n",
    "        label_conversion = {'01': 'NEU',\n",
    "                            '02': 'HAP',\n",
    "                            '03': 'SAD',\n",
    "                            '04': 'ANG',\n",
    "                            '05': 'FEA',\n",
    "                            '06': 'DIS'}\n",
    "        \n",
    "\n",
    "        for subdir, dirs, files in os.walk(path):\n",
    "            for filename in files:\n",
    "              destination_path = TRAINING_FILES_PATH + 'crema/' # this is where the files of crema audio in 'crema' folder inside of TRAINING_FILES_PATH\n",
    "              old_file_path = os.path.join(os.path.abspath(subdir), filename)\n",
    "\n",
    "              base, extension = os.path.splitext(filename)\n",
    "\n",
    "              for key, value in label_conversion.items():\n",
    "                if(filename.split('_')[2] == value):\n",
    "                  random_list = random.sample(range(10, 99), 7)\n",
    "                  file_name = '-'.join([str(i) for i in random_list])\n",
    "                  file_name_with_correct_emotion = file_name[:6] + key + file_name[8:] + extension\n",
    "                  new_file_path = destination_path + file_name_with_correct_emotion\n",
    "                  shutil.copy(old_file_path, new_file_path)\n",
    "                    \n",
    "\n",
    "if __name__ == '__main__':\n",
    "    CremaPipeline.create_crema_folder(crema_original_data_path)"
   ]
  }
 ],
 "metadata": {
  "language_info": {
   "name": "python"
  }
 },
 "nbformat": 4,
 "nbformat_minor": 2
}
