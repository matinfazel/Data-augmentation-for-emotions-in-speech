{
 "cells": [
  {
   "cell_type": "code",
   "execution_count": null,
   "metadata": {},
   "outputs": [],
   "source": [
    "import os\n",
    "import matplotlib.pyplot as plt\n",
    "import shutil\n",
    "import librosa\n",
    "import librosa.display\n",
    "from skimage.transform import resize\n",
    "import IPython.display as ipd\n",
    "import cv2\n",
    "from PIL import Image, ImageChops\n",
    "import numpy as np\n",
    "from matplotlib import pyplot as plt"
   ]
  },
  {
   "cell_type": "code",
   "execution_count": null,
   "metadata": {},
   "outputs": [],
   "source": [
    "from google.colab import drive\n",
    "drive.mount('/content/drive')"
   ]
  },
  {
   "cell_type": "code",
   "execution_count": null,
   "metadata": {},
   "outputs": [],
   "source": [
    "!gdown 1scuFwqh8s7KIYAfZW1Eu6088ZAK2SI-v"
   ]
  },
  {
   "cell_type": "code",
   "execution_count": null,
   "metadata": {},
   "outputs": [],
   "source": [
    "!unzip 'Emotional Speech Dataset (ESD).zip'"
   ]
  },
  {
   "cell_type": "code",
   "execution_count": null,
   "metadata": {},
   "outputs": [],
   "source": [
    "def trim(im):\n",
    "    bg = Image.new(im.mode, im.size, im.getpixel((0,0)))\n",
    "    diff = ImageChops.difference(im, bg)\n",
    "    diff = ImageChops.add(diff, diff, 2.0, -100)\n",
    "    bbox = diff.getbbox()\n",
    "    if bbox:\n",
    "        return im.crop(bbox)"
   ]
  },
  {
   "cell_type": "code",
   "execution_count": null,
   "metadata": {},
   "outputs": [],
   "source": [
    "class Language_dataset:\n",
    "  def __init__(self, language,root_directory):\n",
    "    self.language = language\n",
    "    self.root_directory = root_directory\n",
    "    self.Categories = ['Angry','Happy','Neutral','Sad','Surprise']\n",
    "\n",
    "  all_files = {'Angry':[],\n",
    "               'Happy':[],\n",
    "               'Neutral':[],\n",
    "               'Sad' :[],\n",
    "               'Surprise':[]\n",
    "               }\n",
    "\n",
    "  def define_categories(self):\n",
    "\n",
    "    list_dir = os.listdir(self.root_directory)\n",
    "    for dir in list_dir:\n",
    "      if '00' not in dir:# Remove all of the redundant files\n",
    "        list_dir.remove(dir)\n",
    "    list_dir.sort()\n",
    "    if self.language == 'Chinese':\n",
    "      self.list_dir = list_dir[0:10]\n",
    "    elif self.language == 'English':\n",
    "      self.list_dir = list_dir[10:]\n",
    "\n",
    "  def define_wav_files(self):\n",
    "    self.define_categories()\n",
    "    for dir in self.list_dir:\n",
    "      for category in self.Categories:\n",
    "        category_path = os.path.join(self.root_directory,dir,category)\n",
    "        files_of_category = os.listdir(category_path)\n",
    "        for files in files_of_category:\n",
    "          full_path = os.path.join(category_path,files)\n",
    "          self.all_files[category].append(full_path)\n",
    "\n",
    "  def dataset_split():\n",
    "    pass\n",
    "\n",
    "  def make_directory(self,directory='Spectogram'):\n",
    "    print(directory)\n",
    "    if not os.path.exists(directory):\n",
    "      os.makedirs(directory,exist_ok=True)\n",
    "    language_dir = os.path.join(directory,self.language)\n",
    "\n",
    "    if os.path.exists(language_dir):\n",
    "      shutil.rmtree(language_dir)\n",
    "    os.mkdir(language_dir)\n",
    "    for category in self.Categories:\n",
    "      os.mkdir(os.path.join(directory,self.language,category))\n",
    "\n",
    "  def save_spectogram(self,directory='Spectogram'):\n",
    "    self.make_directory(directory)\n",
    "    for category in self.all_files:\n",
    "      c = 0\n",
    "      for wav_file in self.all_files[category]:\n",
    "        print(c,category)\n",
    "        x, sr = librosa.load(wav_file)#44100\n",
    "        S = librosa.feature.melspectrogram(y=x, sr=sr)\n",
    "        log_S = librosa.power_to_db(S, ref=np.max)\n",
    "        librosa.display.specshow(log_S, sr=sr, x_axis='time', y_axis='mel')\n",
    "        fig1 = plt.gcf()\n",
    "        plt.axis('off')\n",
    "        file_name = wav_file.split('/')[3][:-4]\n",
    "        spec_path = os.path.join(directory, self.language, category,file_name + '.jpg')\n",
    "        fig1.savefig(spec_path, dpi=100)\n",
    "        c = c + 1\n",
    "        if c >= 140:\n",
    "          break\n",
    "\n",
    "  def save_numpy_array(self,directory='Numpyarray'):\n",
    "    self.make_directory(directory)\n",
    "    for category in self.all_files:\n",
    "      for wav_file in self.all_files[category]:\n",
    "        try:\n",
    "          x, sr = librosa.load(wav_file, sr=16000)#44100\n",
    "          src_ft = librosa.stft(x)\n",
    "          file_name = wav_file.split('/')[3][:-4]\n",
    "          spec_path = os.path.join(directory, self.language, category,file_name + '.npy')\n",
    "          np.save(spec_path,src_ft)\n",
    "        except:\n",
    "          print(wav_file)\n",
    "  def crop(self,directory):\n",
    "    for category in self.all_files:\n",
    "      image_files = os.listdir(os.path.join(directory, self.language, category))\n",
    "      for image_file in image_files:\n",
    "          print(image_file)\n",
    "          spec_path = os.path.join(directory, self.language, category, image_file)\n",
    "          img = Image.open(spec_path)\n",
    "          croped = trim(img)\n",
    "          croped.save(spec_path)\n",
    "\n"
   ]
  },
  {
   "cell_type": "code",
   "execution_count": null,
   "metadata": {},
   "outputs": [],
   "source": [
    "English = Language_dataset(language='English', root_directory='Emotion Speech Dataset')\n",
    "English.define_wav_files()\n",
    "English.save_spectogram('/content/drive/MyDrive/Spectogram')"
   ]
  },
  {
   "cell_type": "code",
   "execution_count": null,
   "metadata": {},
   "outputs": [],
   "source": [
    "Chinese = Language_dataset(language='Chinese', root_directory='Emotion Speech Dataset')\n",
    "Chinese.define_wav_files()\n",
    "Chinese.save_spectogram('/content/drive/MyDrive/Spectogram')"
   ]
  }
 ],
 "metadata": {
  "language_info": {
   "name": "python"
  }
 },
 "nbformat": 4,
 "nbformat_minor": 2
}
