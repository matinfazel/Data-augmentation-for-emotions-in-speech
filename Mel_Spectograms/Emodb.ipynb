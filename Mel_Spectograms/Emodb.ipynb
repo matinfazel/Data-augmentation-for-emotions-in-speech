{
 "cells": [
  {
   "cell_type": "code",
   "execution_count": null,
   "metadata": {},
   "outputs": [],
   "source": [
    "#import modules \n",
    "import os\n",
    "import shutil\n",
    "import random"
   ]
  },
  {
   "cell_type": "code",
   "execution_count": null,
   "metadata": {},
   "outputs": [],
   "source": [
    "TRAINING_FILES_PATH = 'Training_Files/'\n",
    "emo_original_data_path = \"Emodb/\""
   ]
  },
  {
   "cell_type": "code",
   "execution_count": null,
   "metadata": {},
   "outputs": [],
   "source": [
    "class EmodbPipeline:\n",
    "\n",
    "    @staticmethod\n",
    "    def create_emo_folder(path):\n",
    "       \n",
    "        counter = 0\n",
    "\n",
    "        label_conversion =  {'W': '04' , 'E': '06'  , 'A': '05'  , 'F': '02'   ,'T': '03'   , 'N': '01'}\n",
    "        \n",
    "\n",
    "        for subdir, dirs, files in os.walk(path):\n",
    "            for filename in files:\n",
    "              destination_path = TRAINING_FILES_PATH + 'emodb/' # this is where the files of emodb in emodb folder inside of TRAINING_FILES_PATH\n",
    "              old_file_path = os.path.join(os.path.abspath(subdir), filename)\n",
    "\n",
    "              base, extension = os.path.splitext(filename)\n",
    "\n",
    "              for key, value in label_conversion.items():\n",
    "                if(filename.split('.')[0][-2] == key):\n",
    "                  random_list = random.sample(range(10, 99), 7)\n",
    "                  file_name = '-'.join([str(i) for i in random_list])\n",
    "                  file_name_with_correct_emotion = file_name[:6] + value + file_name[8:] + extension\n",
    "                  new_file_path = destination_path + file_name_with_correct_emotion\n",
    "                  shutil.copy(old_file_path, new_file_path)\n",
    "                    \n",
    "\n",
    "if __name__ == '__main__':\n",
    "    EmodbPipeline.create_emo_folder(emo_original_data_path)\n",
    "\n",
    "\n"
   ]
  }
 ],
 "metadata": {
  "language_info": {
   "name": "python"
  }
 },
 "nbformat": 4,
 "nbformat_minor": 2
}
