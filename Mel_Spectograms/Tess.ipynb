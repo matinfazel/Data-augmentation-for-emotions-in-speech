{
 "cells": [
  {
   "cell_type": "code",
   "execution_count": null,
   "metadata": {},
   "outputs": [],
   "source": [
    "#import modules \n",
    "import os\n",
    "import shutil\n",
    "import random"
   ]
  },
  {
   "cell_type": "code",
   "execution_count": null,
   "metadata": {},
   "outputs": [],
   "source": [
    "TRAINING_FILES_PATH = 'Training_Files/'\n",
    "TESS_ORIGINAL_FOLDER_PATH = \"Tess/\""
   ]
  },
  {
   "cell_type": "code",
   "execution_count": null,
   "metadata": {},
   "outputs": [],
   "source": [
    "#TESS:\n",
    "\n",
    "class TESSPipeline:\n",
    "\n",
    "    @staticmethod\n",
    "    def create_tess_folders(path):\n",
    "       \n",
    "        counter = 0\n",
    "\n",
    "        label_conversion = {'01': 'neutral',\n",
    "                            '02': 'happy',\n",
    "                            '03': 'sad',\n",
    "                            '04': 'angry',\n",
    "                            '05': 'fear',\n",
    "                            '06': 'disgust'}\n",
    "\n",
    "        for subdir, dirs, files in os.walk(path):\n",
    "            for filename in files:\n",
    "                if filename.startswith('OAF'): \n",
    "                    destination_path = TRAINING_FILES_PATH + 'Actor_26/'         # this is where the files of tess i.e OAF (old) in Actor_26 folder inside of TRAINING_FILES_PATH\n",
    "                    old_file_path = os.path.join(os.path.abspath(subdir), filename)\n",
    "\n",
    "                    # Separate base from extension\n",
    "                    base, extension = os.path.splitext(filename)\n",
    "\n",
    "                    for key, value in label_conversion.items():\n",
    "                        if base.endswith(value):\n",
    "                            random_list = random.sample(range(10, 99), 7)\n",
    "                            file_name = '-'.join([str(i) for i in random_list])\n",
    "                            file_name_with_correct_emotion = file_name[:6] + key + file_name[8:] + extension\n",
    "                            new_file_path = destination_path + file_name_with_correct_emotion\n",
    "                            shutil.copy(old_file_path, new_file_path)\n",
    "\n",
    "                else:\n",
    "                    destination_path = TRAINING_FILES_PATH + 'Actor_25/'       # this is where the files of tess i.e YAF (young) in Actor_25 folder inside of TRAINING_FILES_PATH\n",
    "                    old_file_path = os.path.join(os.path.abspath(subdir), filename)\n",
    "\n",
    "                    # Separate base from extension\n",
    "                    base, extension = os.path.splitext(filename)\n",
    "\n",
    "                    for key, value in label_conversion.items():\n",
    "                        if base.endswith(value):\n",
    "                            random_list = random.sample(range(10, 99), 7)\n",
    "                            file_name = '-'.join([str(i) for i in random_list])\n",
    "                            file_name_with_correct_emotion = (file_name[:6] + key + file_name[8:] + extension).strip()\n",
    "                            new_file_path = destination_path + file_name_with_correct_emotion\n",
    "                            shutil.copy(old_file_path, new_file_path)\n",
    "\n",
    "\n",
    "if __name__ == '__main__':\n",
    "    TESSPipeline.create_tess_folders(TESS_ORIGINAL_FOLDER_PATH)"
   ]
  }
 ],
 "metadata": {
  "language_info": {
   "name": "python"
  }
 },
 "nbformat": 4,
 "nbformat_minor": 2
}
