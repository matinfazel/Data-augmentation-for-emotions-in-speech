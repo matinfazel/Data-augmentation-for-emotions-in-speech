{
 "cells": [
  {
   "cell_type": "code",
   "execution_count": null,
   "metadata": {},
   "outputs": [],
   "source": [
    "import os\n",
    "import shutil"
   ]
  },
  {
   "cell_type": "code",
   "execution_count": null,
   "metadata": {},
   "outputs": [],
   "source": [
    "TRAINING_FILES_PATH = 'Training_Files/'\n",
    "rav_path = \"Ravdes/\""
   ]
  },
  {
   "cell_type": "code",
   "execution_count": null,
   "metadata": {},
   "outputs": [],
   "source": [
    "class ravPipeline:\n",
    "\n",
    "    @staticmethod\n",
    "    def create_rav_folder(path):\n",
    "       \n",
    "        counter = 0\n",
    "\n",
    "        label_conversion = {'01': '01',\n",
    "                            '02': '03',\n",
    "                            '03': '04',\n",
    "                            '04': '05',\n",
    "                            '05': '06',\n",
    "                            '06': '07'}\n",
    "        \n",
    "        i = 0 \n",
    "        for subdir, dirs, files in os.walk(path):\n",
    "            print(i,subdir, dirs, files)\n",
    "            i +=1\n",
    "            for filename in files:\n",
    "                if(filename[6:8] != '02' and filename[6:8] != '08'):\n",
    "                    destination_path = TRAINING_FILES_PATH + 'RT_6_/' # this is where the files of ravdess in RT_6 folder inside of TRAINING_FILES_PATH\n",
    "                    old_file_path = os.path.join(os.path.abspath(subdir), filename)\n",
    "\n",
    "                    base, extension = os.path.splitext(filename)\n",
    "\n",
    "                    for key, value in label_conversion.items():\n",
    "                        if(filename[6:8] == value):\n",
    "                            file_name_with_correct_emotion = filename[:6] + key + filename[8:] #+ extension\n",
    "                            new_file_path = destination_path + file_name_with_correct_emotion\n",
    "                            shutil.copy(old_file_path, new_file_path)\n",
    "                    \n",
    "\n",
    "if __name__ == '__main__':\n",
    "    ravPipeline.create_rav_folder(rav_path)"
   ]
  }
 ],
 "metadata": {
  "language_info": {
   "name": "python"
  }
 },
 "nbformat": 4,
 "nbformat_minor": 2
}
