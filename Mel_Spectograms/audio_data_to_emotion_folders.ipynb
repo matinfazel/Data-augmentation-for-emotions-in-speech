{
  "cells": [
    {
      "cell_type": "markdown",
      "metadata": {
        "id": "XYCvMF7Frqre"
      },
      "source": [
        "## To emotion Folders:\n",
        "\n",
        "- In this notebook , we are seperating the entire audio files according to their emotions"
      ]
    },
    {
      "cell_type": "code",
      "execution_count": 1,
      "metadata": {
        "id": "Vv9Nmzd3sYoh"
      },
      "outputs": [],
      "source": [
        "# import modules\n",
        "\n",
        "import os\n",
        "import shutil"
      ]
    },
    {
      "cell_type": "code",
      "execution_count": 4,
      "metadata": {
        "id": "Z0TWX8olqyxI"
      },
      "outputs": [],
      "source": [
        "path = 'Training_Files/'  # it is the training files path in the filenames_to_ravdess.ipynb \n",
        "folder_path = 'Emotion_Folders/' # '------destination path------------'"
      ]
    },
    {
      "cell_type": "code",
      "execution_count": 3,
      "metadata": {
        "id": "U8gvFvwhflRI"
      },
      "outputs": [],
      "source": [
        "class Audio_to_emotion_folders:\n",
        "\n",
        "  @staticmethod\n",
        "  def create_folders(path, folder_path):\n",
        "    \n",
        "\n",
        "    label_conversion = {'01': 'neutral',\n",
        "                            '02': 'happy',\n",
        "                            '03': 'sad',\n",
        "                            '04': 'angry',\n",
        "                            '05': 'fear',\n",
        "                            '06': 'disgust'}\n",
        "        \n",
        "    for emotion_number, emotions in label_conversion.items():         # Here it is creating folders according to the emotions in label_conversion dictionary above.\n",
        "        new_folder = emotions\n",
        "        new_folder_path = folder_path + new_folder + '/'\n",
        "        os.mkdir(new_folder_path)                                      # If the emotions are already exist then it will ignore, otherwise it will create the new one \n",
        "    \n",
        "    for subdir, dirs, files in os.walk(path):\n",
        "        for filenames in files:\n",
        "            for emotion_number, emotions in label_conversion.items():\n",
        "                if(filenames[6:8] == emotion_number):\n",
        "                    destination_path = folder_path + emotions +'/'\n",
        "                    old_file_path = os.path.join(os.path.abspath(subdir), filenames)\n",
        "                    new_file_path = destination_path + filenames\n",
        "                    shutil.copy(old_file_path, new_file_path)               # copying files to the emotional folders according to its emotions \n",
        "\n",
        "        \n",
        "\n",
        "if __name__ == '__main__':\n",
        "    Audio_to_emotion_folders.create_folders(path, folder_path)\n",
        "\n"
      ]
    },
    {
      "cell_type": "code",
      "execution_count": null,
      "metadata": {},
      "outputs": [],
      "source": []
    }
  ],
  "metadata": {
    "colab": {
      "collapsed_sections": [],
      "name": "audio_data_to_emotion_folders.ipynb",
      "provenance": []
    },
    "kernelspec": {
      "display_name": "Python 3",
      "name": "python3"
    },
    "language_info": {
      "codemirror_mode": {
        "name": "ipython",
        "version": 3
      },
      "file_extension": ".py",
      "mimetype": "text/x-python",
      "name": "python",
      "nbconvert_exporter": "python",
      "pygments_lexer": "ipython3",
      "version": "3.9.13"
    }
  },
  "nbformat": 4,
  "nbformat_minor": 0
}
